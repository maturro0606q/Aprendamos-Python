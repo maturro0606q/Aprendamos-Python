{
  "nbformat": 4,
  "nbformat_minor": 0,
  "metadata": {
    "colab": {
      "provenance": []
    },
    "kernelspec": {
      "name": "python3",
      "display_name": "Python 3"
    },
    "language_info": {
      "name": "python"
    }
  },
  "cells": [
    {
      "cell_type": "markdown",
      "source": [
        "# Introducción a Python\n",
        "\n",
        "## ¿Qué es Python?\n",
        "\n",
        "Python es un **lenguaje de programación**. Eso significa que es una forma en la que las personas le damos **instrucciones a un computador** para que haga cosas: desde cálculos matemáticos, hasta crear páginas web, videojuegos, aplicaciones, programas de inteligencia artificial, etc.\n",
        "\n",
        "### Lo que lo hace especial es que:\n",
        "\n",
        "**Es muy fácil de leer y escribir** → su sintaxis (las reglas para escribir el código) se parece bastante al lenguaje humano.\n",
        "\n",
        "**Es versátil** → sirve para muchas áreas distintas: ciencia de datos, inteligencia artificial, desarrollo web, automatización de tareas, análisis financiero, etc.\n",
        "\n",
        "**Tiene mucha comunidad** → hay miles de personas que lo usan, lo que significa que encuentras tutoriales, librerías (bloques de código ya hechos) y ayuda fácilmente.\n",
        "\n",
        "**Es gratuito y de código abierto** → cualquiera puede usarlo y mejorarlo.\n",
        "\n",
        "## ¿Qué es Google Colab?\n",
        "\n",
        "**Google Colab** (o Colaboratory) es una herramienta **gratuita** de Google que te permite **programar en Python directamente desde tu navegador**, sin necesidad de instalar nada en tu computador.\n",
        "\n",
        "### ¿Cómo ejecuto el código en Google Colab?\n",
        "\n",
        "Para ejecutar código en Google Colab, se trabaja en celdas de manera independiente (aunque se guarda lo ejecutado anteriormente). Para \"correr\" el código se debe apretar *Shif* + *Enter* de **manera lineal** (de arriba hacia abajo). Para escribir un comentario, el cual no se ejecute, en la celda de código, debes colocar un **#** *Y luego escribir*.\n",
        "\n",
        "## Hagamos tu Primer Programa\n",
        "\n",
        "En la celda de abajo, escribe lo siguiente:\n",
        "\n",
        "\n",
        "```\n",
        "# print(\"Hola Mundo\")\n",
        "```\n",
        "Esto mostrará en la consola el texto \"Hola Mundo\".\n",
        "\n",
        "----------------\n"
      ],
      "metadata": {
        "id": "6PVcbWIaosIM"
      }
    },
    {
      "cell_type": "code",
      "source": [
        "# Ejercicio 1: Escribe tu nombre en la consola.\n",
        "\n",
        "# Resuelve el ejercicio aquí :)"
      ],
      "metadata": {
        "id": "70sTlkvTqoM4"
      },
      "execution_count": 11,
      "outputs": []
    },
    {
      "cell_type": "markdown",
      "source": [
        "# Tipos de Variables\n",
        "## ¿Qué es una variable?\n",
        "Piensalo como una **caja**, aquí tu puedes guardar información, ya sea *texto*, *numeros*, *listas*, *booleanos*, etc.\n",
        "\n",
        "## Tipos de Variables:\n",
        "#### **str**: Las variables ***str*** son **texto**.\n",
        "#### **int**: Las variables ***int*** son **números enteros**.\n",
        "#### **float**: Las variables ***float*** son **números con decimales**.\n",
        "#### **list**: Las variables ***list*** son **listas con números, palabras, variables y/o listas dentro**\n",
        "#### **bool**: Las variables ***bool*** guardan el valor **True** o **False**.\n",
        "\n",
        "```\n",
        "# Ejemplo\n",
        "nombre = \"Matías\"\n",
        "edad = 19\n",
        "estatura = 1.78\n",
        "animalesFavoritos = [\"Perros\", \"Gatos\", \"Tortugas\"]\n",
        "estudiante = True\n",
        "```\n",
        "\n",
        "**Como dato importante:** Al usar **print()**, puedes mostrar más de una variable, valor o texto.\n",
        "\n",
        "\n",
        "```\n",
        "print(\"hola, me llamo \" + nombre)\n",
        "```\n",
        "\n"
      ],
      "metadata": {
        "id": "mUFkK_uGrmyC"
      }
    },
    {
      "cell_type": "code",
      "source": [
        "# Ejercicio 2: Define una variable \"nombre\", una variable \"edad\", y muestra en la consola un texto que incorpore el valor de las variables definidas.\n",
        "\n",
        "# Resuelve el ejercicio aquí :)"
      ],
      "metadata": {
        "id": "M40jwNiKwZBK"
      },
      "execution_count": 10,
      "outputs": []
    },
    {
      "cell_type": "markdown",
      "source": [
        "# Operaciones Básicas\n",
        "En programación, los operadores son **símbolos** que permiten hacer **operaciones con variables** y **valores**.\n",
        "\n",
        "##Tipos de Operadores\n",
        "\n",
        "### **Aritméticos** → sirven para hacer cálculos matemáticos.\n",
        "\n",
        "\n",
        "* **\"+\"** → suma\n",
        "\n",
        "* **\"-\"** → resta\n",
        "\n",
        "* **\"*\"** → multiplicación\n",
        "\n",
        "* **\"/\"** → división (resultado con decimales)\n",
        "\n",
        "* **\"//\"** → división entera (sin decimales)\n",
        "\n",
        "* **\"%\"** → módulo (resto de una división)\n",
        "\n",
        "* \"**\" → potencia (exponente)\n",
        "\n",
        "### **De Comparación** → comparan dos valores y devuelven True o False.\n",
        "\n",
        "* **\"==\"** → igual que\n",
        "\n",
        "* **\"!=\"** → distinto que\n",
        "\n",
        "* **\">\"** → mayor que\n",
        "\n",
        "* **\"<\"** → menor que\n",
        "\n",
        "* **\">=\"** → mayor o igual que\n",
        "\n",
        "* **\"<=\"** → menor o igual que\n",
        "\n",
        "### **Lógicos** → se usan con valores booleanos (True o False).\n",
        "\n",
        "* **and** → verdadero si ambas condiciones son verdaderas.\n",
        "\n",
        "* **or** → verdadero si al menos una condición es verdadera.\n",
        "\n",
        "* **not** → invierte el valor (True → False y viceversa)."
      ],
      "metadata": {
        "id": "97Ztk_ycyBJC"
      }
    },
    {
      "cell_type": "code",
      "source": [
        "# Ejercicio 3: Define dos variables x y y con valores numéricos.\n",
        "## Muestra en la consola:\n",
        "## 1. La suma, resta, multiplicación y división de x y y.\n",
        "## 2. Si x es mayor que y.\n",
        "## 3. El resultado de x > 5 and y < 10.\n",
        "\n",
        "# Resuelve el ejercicio aquí :)"
      ],
      "metadata": {
        "id": "dTrHmtrr1jEI"
      },
      "execution_count": 9,
      "outputs": []
    },
    {
      "cell_type": "markdown",
      "source": [
        "# Entrada de Datos\n",
        "\n",
        "Hasta ahora hemos visto cómo crear variables y darles un valor directamente en el código.\n",
        "Pero muchas veces **necesitamos que el usuario escriba datos** mientras el programa se ejecuta.\n",
        "\n",
        "Para eso usamos la función **input()**.\n",
        "\n",
        "## ¿Cómo funciona input()?\n",
        "\n",
        "**input()** muestra un mensaje en pantalla.\n",
        "\n",
        "El **usuario escribe algo** y lo que escriba **se guarda como texto (str) en una variable**.\n",
        "\n",
        "\n",
        "```\n",
        "nombre = input(\"¿Cómo te llamas? \")\n",
        "print(\"Hola,\", nombre)\n",
        "```\n",
        "## Importante: Conversión de datos\n",
        "\n",
        "Por defecto, todo **lo que ingresa el usuario** con input() **es texto** (str).\n",
        "Si **necesitas números**, debes **convertirlos**:\n",
        "\n",
        "* **int()** → convierte a número entero.\n",
        "\n",
        "* **float()** → convierte a número con decimales.\n",
        "\n",
        "\n",
        "```\n",
        "edad = int(input(\"¿Cuántos años tienes? \"))\n",
        "altura = float(input(\"¿Cuál es tu altura en metros? \"))\n",
        "\n",
        "print(\"Tienes\", edad, \"años y mides\", altura, \"metros.\")\n",
        "```\n",
        "\n",
        "\n"
      ],
      "metadata": {
        "id": "7_5dhPqXyMUj"
      }
    },
    {
      "cell_type": "code",
      "source": [
        "# Ejercicio 5:\n",
        "## 1. Pídele al usuario su nombre, su edad y su animal favorito.\n",
        "## 2. Guarda cada respuesta en una variable.\n",
        "## 3. Muestra un mensaje en consola que use las tres variables.\n",
        "\n",
        "# Resuelve el ejercicio aquí :)"
      ],
      "metadata": {
        "id": "mu8FuZ-i3E6b"
      },
      "execution_count": 8,
      "outputs": []
    },
    {
      "cell_type": "markdown",
      "source": [
        "# Condicionales: **if**, **else** y **elif**.\n",
        "\n",
        "En programación muchas veces queremos que **el programa tome decisiones** dependiendo de una condición.\n",
        "En Python, para eso usamos las **estructuras condicionales**: **if**, **elif** y **else**.\n",
        "\n",
        "\n",
        "\n",
        "```\n",
        "if condición:\n",
        "    # código que se ejecuta si la condición es verdadera\n",
        "elif otra_condición:\n",
        "    # código que se ejecuta si la primera fue falsa pero esta es verdadera\n",
        "else:\n",
        "    # código que se ejecuta si ninguna condición fue verdadera\n",
        "```\n",
        "### Ejemplo1: (solo if)\n",
        "\n",
        "\n",
        "```\n",
        "edad = 18\n",
        "\n",
        "if edad >= 18:\n",
        "    print(\"Eres mayor de edad\")\n",
        "\n",
        "# Si se cumple, ocurre el print, si no cumple, no pasa nada\n",
        "```\n",
        "### Ejemplo2: (if + else)\n",
        "\n",
        "\n",
        "```\n",
        "edad = 15\n",
        "\n",
        "if edad >= 18:\n",
        "    print(\"Eres mayor de edad\")\n",
        "else:\n",
        "    print(\"Eres menor de edad\")\n",
        "\n",
        "# Aquí no se cumple lo primero, pero si se cumple lo segundo; por lo tanto, en la consola saldrá \"Eres menor de edad\".\n",
        "```\n",
        "### Ejemplo3: (if + elif + else)\n",
        "\n",
        "\n",
        "```\n",
        "nota = 50\n",
        "\n",
        "if nota >= 90:\n",
        "    print(\"Excelente\")\n",
        "elif nota >= 60:\n",
        "    print(\"Aprobado\")\n",
        "else:\n",
        "    print(\"Reprobado\")\n",
        "\n",
        "# Aquí, como no se cumple ni la primera ni la segunda condición, la consola mostrará \"Reprobado\".\n",
        "```\n",
        "## Uso con múltiples condiciones\n",
        "\n",
        "Podemos **combinar condiciones** con **operadores lógicos** (and, or, not):\n",
        "* **and**: Se cumplen ambas condiciones al **mismo tiempo**.\n",
        "* **or**: Se cumple **al menos una condición**.\n",
        "* **not**: **No** se cumple la condición.\n",
        "\n",
        "### Ejemplo4:\n",
        "```\n",
        "edad = 20\n",
        "estudiante = True\n",
        "\n",
        "if edad >= 18 and estudiante:\n",
        "    print(\"Eres mayor de edad y estudiante\")\n",
        "\n",
        "```\n",
        "\n",
        "\n",
        "\n"
      ],
      "metadata": {
        "id": "RitqKxyyyWM5"
      }
    },
    {
      "cell_type": "code",
      "source": [
        "# Ejercicio 6:\n",
        "## 1. Pídele al usuario su edad con input().\n",
        "## 2. Si tiene menos de 12 años, muestra \"Eres un niño\".\n",
        "## 3. Si tiene entre 12 y 17, muestra \"Eres un adolescente\".\n",
        "## 4. Si tiene 18 o más, muestra \"Eres adulto\"."
      ],
      "metadata": {
        "id": "ehhBbhS05_1P"
      },
      "execution_count": 12,
      "outputs": []
    },
    {
      "cell_type": "markdown",
      "source": [
        "# Proyecto 1: Cajero Automático 💵\n",
        "\n",
        "## Historia.\n",
        "\n",
        "Imagina que un **banco necesita un cajero automático** sencillo. Este programa debe:\n",
        "\n",
        "1. Pedir al usuario su nombre.\n",
        "\n",
        "2. Preguntar cuánto dinero tiene en su cuenta.\n",
        "\n",
        "3. Darle opciones para depositar, retirar o consultar saldo.\n",
        "\n",
        "4. Mostrar un mensaje según la acción realizada.\n",
        "\n",
        "#### Recomendación: Utiliza variables para guardar el Saldo y el Nombre del usuario. Utiliza operaciones matemáticas. Recuerda que el usuario debe ingresar datos y tu debes guardarlos. Usa condicionales."
      ],
      "metadata": {
        "id": "pvpc7H5zyai5"
      }
    },
    {
      "cell_type": "code",
      "source": [
        "print(\"=== Bienvenido al Cajero Automático ===\")\n",
        "# Continúa tu código aquí :)"
      ],
      "metadata": {
        "colab": {
          "base_uri": "https://localhost:8080/"
        },
        "id": "JrPiabP_ymIZ",
        "outputId": "4a4158cb-73bc-4749-c12b-fb86927fd3e0"
      },
      "execution_count": 14,
      "outputs": [
        {
          "output_type": "stream",
          "name": "stdout",
          "text": [
            "=== Bienvenido al Cajero Automático ===\n"
          ]
        }
      ]
    },
    {
      "cell_type": "code",
      "source": [],
      "metadata": {
        "id": "xNxm-UXcBcna"
      },
      "execution_count": null,
      "outputs": []
    }
  ]
}