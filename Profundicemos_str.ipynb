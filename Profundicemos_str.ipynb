{
  "nbformat": 4,
  "nbformat_minor": 0,
  "metadata": {
    "colab": {
      "provenance": []
    },
    "kernelspec": {
      "name": "python3",
      "display_name": "Python 3"
    },
    "language_info": {
      "name": "python"
    }
  },
  "cells": [
    {
      "cell_type": "markdown",
      "source": [
        "# Profundicemos en las variables tipo str()\n",
        "\n",
        "## 🔹 Creación y propiedades básicas\n",
        "\n",
        "* Se definen con comillas simples 'texto', dobles \"texto\" o triples '''texto'''.\n",
        "\n",
        "* Son inmutables (no puedes modificar un carácter directamente).\n",
        "\n",
        "* Soportan indexación (texto[0]) y slicing (texto[1:4]).\n",
        "\n",
        "* Se pueden concatenar (\"Hola\" + \" Mundo\") y repetir (\"ja\" * 3 → \"jajaja\").\n",
        "\n",
        "* Se pueden comparar (==, !=, <, >).\n",
        "\n",
        "## 🔹 Métodos principales de str\n",
        "\n",
        "* **.lower()** → Convierte todo a minúsculas.\n",
        "\n",
        "* **.upper()** → Convierte todo a mayúsculas.\n",
        "\n",
        "* **.capitalize()** → Primera letra mayúscula, resto minúscula.\n",
        "\n",
        "* **.title()** → Pone en mayúscula la primera letra de cada palabra.\n",
        "\n",
        "* **.swapcase()** → Invierte mayúsculas/minúsculas.\n",
        "\n",
        "## 🔹 Búsqueda y verificación\n",
        "\n",
        "* **.find(sub)** → Retorna la posición de sub o -1.\n",
        "\n",
        "* **.index(sub)** → Similar a find, pero da error si no encuentra.\n",
        "\n",
        "* **.count(sub)** → Cuenta ocurrencias de sub.\n",
        "\n",
        "* **.startswith(sub)** → Verifica si comienza con sub.\n",
        "\n",
        "* **.endswith(sub)** → Verifica si termina con sub.\n",
        "\n",
        "* **in** → Operador para buscar (\"py\" in \"python\").\n",
        "\n",
        "## 🔹 Validaciones (True/False)\n",
        "\n",
        "* **.isalpha()** → ¿Solo letras?\n",
        "\n",
        "* **.isdigit()** → ¿Solo dígitos?\n",
        "\n",
        "* **.isalnum()** → ¿Letras o números?\n",
        "\n",
        "* **.isspace()** → ¿Solo espacios?\n",
        "\n",
        "* **.islower()** → ¿Todo minúsculas?\n",
        "\n",
        "* **.isupper()** → ¿Todo mayúsculas?\n",
        "\n",
        "* **.istitle()** → ¿Formato tipo Título?\n",
        "\n",
        "## 🔹 Transformaciones\n",
        "\n",
        "* **.strip()** → Elimina espacios en los extremos.\n",
        "\n",
        "* **.lstrip()** → Elimina espacios a la izquierda.\n",
        "\n",
        "* **.rstrip()** → Elimina espacios a la derecha.\n",
        "\n",
        "* **.replace(a, b)** → Reemplaza a por b.\n",
        "\n",
        "* **.center(n, char)** → Centra el texto en n espacios, con relleno char.\n",
        "\n",
        "* **.ljust(n, char)** → Alinea a la izquierda con relleno.\n",
        "\n",
        "* **.rjust(n, char)** → Alinea a la derecha con relleno.\n",
        "\n",
        "* **.zfill(n)** → Rellena con ceros a la izquierda.\n",
        "\n",
        "## 🔹 División y unión\n",
        "\n",
        "* **.split(sep)** → Separa en lista por sep (espacio por defecto).\n",
        "\n",
        "* **.rsplit(sep)** → Igual que split pero desde la derecha.\n",
        "\n",
        "* **.splitlines()** → Divide por saltos de línea.\n",
        "\n",
        "* **.join(lista)** → Une una lista de strings con un separador.\n",
        "\n",
        "## 🔹 Formato\n",
        "\n",
        "* **.format()** → Inserta variables en un texto (\"Hola {}\".format(\"Mundo\")).\n",
        "\n",
        "* **f\"\" (f-strings)** → Forma moderna de interpolar variables (f\"Hola {nombre}\").\n",
        "\n",
        "* **.encode()** / **.decode()** → Conversiones de codificación de texto."
      ],
      "metadata": {
        "id": "YSuUOFif7sQe"
      }
    },
    {
      "cell_type": "code",
      "source": [
        "# Ejercicio 1: Pide una frase y devuelve la frase toda en mayúsculas, toda en minúscula y al revés. (Usa lo que aprendiste arriba)\n",
        "\n",
        "# Escribe tu código aquí."
      ],
      "metadata": {
        "id": "AfGhz0V79Mq4"
      },
      "execution_count": 4,
      "outputs": []
    },
    {
      "cell_type": "code",
      "source": [
        "# Ejercicio 2: Pide una frase y una palabra que esté dentro. Con esto, devuelve si la palabra existe en la frase, si es que si, el número se veces que se encuentra esta palabra y la posición.\n",
        "\n",
        "# Escribe tu código aquí."
      ],
      "metadata": {
        "id": "XkfoT93W-XM4"
      },
      "execution_count": 5,
      "outputs": []
    },
    {
      "cell_type": "code",
      "source": [
        "# Ejercicio 3: Pide un nombre y un apellido por separado. Debes devolver el nombre completo con la primera letra de cada uno en mayúsculas y el resto en minúscula.\n",
        "\n",
        "# Escribe tu código aquí."
      ],
      "metadata": {
        "id": "rLZI7gJ_-00_"
      },
      "execution_count": 6,
      "outputs": []
    },
    {
      "cell_type": "code",
      "source": [
        "# Ejercicio 4: Pide una frase y transformémosla en un hashtag. Ejemplo: \"Programar es divertido\" --> #ProgramarEsDivertido.\n",
        "\n",
        "# Escribe tu código aquí."
      ],
      "metadata": {
        "id": "nGATGawB_HZB"
      },
      "execution_count": 7,
      "outputs": []
    },
    {
      "cell_type": "code",
      "source": [
        "# Ejercicio 5: Escribamos un código secreto. Pide un mensaje y transforma cada vocal en un símbolo, luego muestralo en la consola. (ejemplo: a => @ ; e => 3 ; i => 1 ; o => 8 ; u => 5)\n",
        "\n",
        "# Escribe tu código aquí."
      ],
      "metadata": {
        "id": "JYh8cDAg_dJ4"
      },
      "execution_count": null,
      "outputs": []
    }
  ]
}